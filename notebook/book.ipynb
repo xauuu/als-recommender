{
 "cells": [
  {
   "attachments": {},
   "cell_type": "markdown",
   "metadata": {},
   "source": [
    "Công thức phân rã ma trận ban đầu:\n",
    "\n",
    "$\\hat r_{u,i} = q_{i}^{T}p_{u}$\n",
    "* Công thức này biểu diễn xếp hạng dự đoán $\\hat r_{u,i}$ cho người dùng $u$ và mục tiêu $i$. Đó là tích vô hướng giữa vector yếu tố tiềm ẩn $q_{i}$ cho mục tiêu $i$ và vector yếu tố tiềm ẩn $p_{u}$ cho người dùng $u$.\n",
    "\n",
    "Công thức phân rã ma trận với regularization:\n",
    "\n",
    "$\\min\\sum(r_{u,i} - q_{i}^{T}p_{u})^2 + \\lambda(||q_{i}||^2 + ||p_{u}||^2)$\n",
    "* Công thức này biểu diễn hàm mục tiêu mà chúng ta muốn tối thiểu hóa. Nó bao gồm hai thành phần: độ chênh lệch bình phương giữa xếp hạng quan sát $r_{u,i}$ và xếp hạng dự đoán $q_{i}^{T}p_{u}$, và thành phần regularization.\n",
    "* Thành phần đầu tiên, $\\sum(r_{u,i} - q_{i}^{T}p_{u})^2$, đo lường sai số bình phương giữa xếp hạng quan sát và xếp hạng dự đoán. Mục tiêu là tối thiểu hóa thành phần này, thúc đẩy xếp hạng dự đoán gần như là xếp hạng quan sát.\n",
    "* Thành phần thứ hai, $\\lambda(||q_{i}||^2 + ||p_{u}||^2)$, là thành phần regularization. Nó giúp ngăn chặn overfitting bằng cách trừng phạt giá trị lớn của vector yếu tố tiềm ẩn $q_{i}$ và $p_{u}$. Tham số regularization $\\lambda$ điều khiển mức độ regularization. Bằng cách bao gồm thành phần này, chúng ta khuyến khích các vector yếu tố tiềm ẩn nhỏ hơn và được regularization tốt hơn, điều này thúc đẩy sự tổng quát hóa đến dữ liệu mới.\n",
    "\n",
    "Công thức phân rã ma trận với xếp hạng ngụ ý:\n",
    "\n",
    "$\\min\\sum c_{u,i}(p_{u,i} - q_{i}^{T}p_{u})^2 + \\lambda(||q_{i}||^2 + ||p_{u}||^2)$\n",
    "* Trong công thức này, chúng ta xem xét xếp hạng ngụ ý được tạo ra từ tương tác người dùng với mục tiêu (ví dụ: nhấp chuột, xem, mua hàng, v.v.) thay vì xếp hạng rõ ràng.\n",
    "* Để tính toán cho các xếp hạng ngụ ý này, chúng ta thêm thành phần $c_{u,i}$ và $p_{u,i}$ vào công thức. Thành phần $c_{u,i}=1+\\alpha r_{u,i}$ và $p_{u,i}=1$ nếu $r_{u,i}>0$ và $p_{u,i}=0$ nếu $r_{u,i}=0$. Ở đây, $r_{u,i}$ là biểu diễn số của sở thích của người dùng (ví dụ: số lượt nhấp chuột, v.v.)."
   ]
  },
  {
   "cell_type": "code",
   "execution_count": 1,
   "metadata": {},
   "outputs": [],
   "source": [
    "import numpy as np\n",
    "import pandas as pd\n",
    "from pyspark.sql import SQLContext\n",
    "from pyspark.sql import SparkSession\n",
    "from pyspark.ml.recommendation import ALS\n",
    "from pyspark.ml.evaluation import RegressionEvaluator\n",
    "from pyspark.ml.tuning import ParamGridBuilder\n",
    "from pyspark.sql.functions import udf, col, explode, collect_list\n",
    "import os\n",
    "os.environ[\"JAVA_HOME\"] = 'C:\\Program Files\\Java\\jdk-20'"
   ]
  },
  {
   "cell_type": "code",
   "execution_count": 2,
   "metadata": {},
   "outputs": [],
   "source": [
    "appName = \"Recommender System\"\n",
    "spark = SparkSession.builder \\\n",
    "    .master(\"local[2]\") \\\n",
    "    .appName(appName) \\\n",
    "    .getOrCreate()\n",
    "# sc = spark.sparkContext\n",
    "# sqlContext = SQLContext(sc)\n"
   ]
  },
  {
   "cell_type": "code",
   "execution_count": 3,
   "metadata": {},
   "outputs": [],
   "source": [
    "COL_USER = \"user_id\"\n",
    "COL_ITEM = \"book_id\"\n",
    "COL_RATING = \"rating\"\n",
    "MAX_ITER = 10\n",
    "REG_PARAM = 0.15\n",
    "RANK = 4"
   ]
  },
  {
   "cell_type": "code",
   "execution_count": 4,
   "metadata": {},
   "outputs": [],
   "source": [
    "ratings = spark.read.csv('./data/book/ratings.csv',\n",
    "                         header=True, inferSchema=True)\n",
    "books = spark.read.csv('./data/book/books.csv', header=True, inferSchema=True)\n",
    "books = books.withColumn('ratings_count', books['ratings_count'].cast('int'))\n",
    "books = books.withColumn('average_rating', books['average_rating'].cast('float'))\n",
    "books = books.drop('work_id', 'isbn', 'isbn13', 'work_ratings_count',\n",
    "                   'work_text_reviews_count', 'ratings_1', 'ratings_2', 'ratings_3', 'ratings_4', 'ratings_5')\n",
    "\n",
    "tags = spark.read.csv('./data/book/tags.csv', header=True, inferSchema=True)\n",
    "book_tags = spark.read.csv('./data/book/book_tags.csv', header=True, inferSchema=True)\n"
   ]
  },
  {
   "cell_type": "code",
   "execution_count": 5,
   "metadata": {},
   "outputs": [
    {
     "name": "stdout",
     "output_type": "stream",
     "text": [
      "root\n",
      " |-- user_id: integer (nullable = true)\n",
      " |-- book_id: integer (nullable = true)\n",
      " |-- rating: integer (nullable = true)\n",
      "\n",
      "root\n",
      " |-- id: integer (nullable = true)\n",
      " |-- book_id: integer (nullable = true)\n",
      " |-- best_book_id: integer (nullable = true)\n",
      " |-- books_count: integer (nullable = true)\n",
      " |-- authors: string (nullable = true)\n",
      " |-- original_publication_year: double (nullable = true)\n",
      " |-- original_title: string (nullable = true)\n",
      " |-- title: string (nullable = true)\n",
      " |-- language_code: string (nullable = true)\n",
      " |-- average_rating: float (nullable = true)\n",
      " |-- ratings_count: integer (nullable = true)\n",
      " |-- image_url: string (nullable = true)\n",
      " |-- small_image_url: string (nullable = true)\n",
      "\n"
     ]
    }
   ],
   "source": [
    "ratings.printSchema()\n",
    "books.printSchema()"
   ]
  },
  {
   "cell_type": "code",
   "execution_count": 5,
   "metadata": {},
   "outputs": [],
   "source": [
    "training_df, validation_df = ratings.randomSplit([.8, .2]) # tách dữ liệu thành 2 phần, 80% dùng để train, 20% dùng để test"
   ]
  },
  {
   "cell_type": "code",
   "execution_count": 6,
   "metadata": {},
   "outputs": [],
   "source": [
    "als = ALS(maxIter=MAX_ITER, regParam=REG_PARAM, rank=RANK,\n",
    "          userCol=COL_USER, itemCol=COL_ITEM, ratingCol=COL_RATING) # khởi tạo model\n",
    "model = als.fit(training_df) # train model"
   ]
  },
  {
   "cell_type": "code",
   "execution_count": 9,
   "metadata": {},
   "outputs": [
    {
     "name": "stdout",
     "output_type": "stream",
     "text": [
      "Root Mean Square Errr Value : 0.8421677940421523\n"
     ]
    }
   ],
   "source": [
    "predictions = model.transform(validation_df) # dự đoán\n",
    "new_predictions = predictions.filter(col(\"prediction\") != np.nan) # lọc các giá trị dự đoán không phải là nan\n",
    "evalutor = RegressionEvaluator( \n",
    "    metricName=\"rmse\", labelCol=\"rating\", predictionCol=\"prediction\") # đánh giá model\n",
    "\n",
    "rmse_score = evalutor.evaluate(new_predictions) # tính toán độ chính xác của model\n",
    "print(\"Root Mean Square Errr Value :\", str(rmse_score)) # in ra độ chính xác của model"
   ]
  },
  {
   "attachments": {},
   "cell_type": "markdown",
   "metadata": {},
   "source": [
    "## Fine tune the model"
   ]
  },
  {
   "attachments": {},
   "cell_type": "markdown",
   "metadata": {},
   "source": [
    "Trong phần này, chúng ta thảo luận về việc điều chỉnh và tinh chỉnh các thông số của mô hình Spark ALS để cải thiện hiệu suất dự đoán.\n",
    "\n",
    "Có ba thông số chính cần xem xét:\n",
    "\n",
    "* rank: Đây là số lượng yếu tố tiềm ẩn trong mô hình phân rã ma trận. Thông thường, nếu chọn giá trị lớn hơn, mô hình sẽ xem xét nhiều yếu tố tiềm ẩn hơn. Tuy nhiên, việc chọn giá trị phù hợp cho rank phụ thuộc vào dữ liệu và yêu cầu cụ thể của bài toán.\n",
    "\n",
    "* regParam: Đây là tham số regularization để kiểm soát overfitting. Khi giá trị của regParam tăng lên, mô hình sẽ được kiểm soát chặt chẽ hơn, giảm khả năng overfitting. Tuy nhiên, giá trị của regParam cần được lựa chọn dựa trên thực nghiệm để đạt hiệu suất tốt nhất.\n",
    "\n",
    "* maxIters: Đây là số lượng vòng lặp tối đa mà thuật toán ALS sẽ thực hiện. Việc tăng maxIters có thể giúp mô hình hội tụ tốt hơn đến điểm tối ưu, nhưng cũng tăng thời gian tính toán. Chúng ta cần cân nhắc giữa hiệu suất và thời gian chạy khi chọn giá trị cho maxIters.\n",
    "\n",
    "Trong quá trình xây dựng mô hình, việc khởi đầu với các giá trị mặc định và sau đó điều chỉnh thông số trong khoảng giá trị để tìm ra tổ hợp thông số tối ưu là một phương pháp tốt. Trên bảng, chúng ta có các thông số được sử dụng cho huấn luyện mô hình ALS cho mục đích nghiên cứu so sánh."
   ]
  },
  {
   "cell_type": "code",
   "execution_count": 27,
   "metadata": {},
   "outputs": [],
   "source": [
    "param_dict = {\n",
    "    \"rank\": [10, 50, 100],\n",
    "    \"regParam\": [0.05, 0.1, 0.15]\n",
    "} # tạo ra các tham số để tìm ra model tốt nhất\n",
    "param_grid = ParamGridBuilder()\\\n",
    "    .addGrid(als.rank, param_dict[\"rank\"])\\\n",
    "    .addGrid(als.regParam, param_dict[\"regParam\"])\\\n",
    "    .build() # tạo ra các tham số để tìm ra model tốt nhất"
   ]
  },
  {
   "cell_type": "code",
   "execution_count": 28,
   "metadata": {},
   "outputs": [
    {
     "name": "stdout",
     "output_type": "stream",
     "text": [
      "Training model with rank=10 and regParam=0.05\n",
      "Root Mean Square Error = 0.9883257772955402\n",
      "Training model with rank=10 and regParam=0.15\n",
      "Root Mean Square Error = 0.8788475384620016\n",
      "Training model with rank=10 and regParam=0.1\n",
      "Root Mean Square Error = 0.9065085494517354\n",
      "Training model with rank=50 and regParam=0.05\n",
      "Root Mean Square Error = 0.9052043819760277\n",
      "Training model with rank=50 and regParam=0.15\n",
      "Root Mean Square Error = 0.8743254927661339\n",
      "Training model with rank=50 and regParam=0.1\n",
      "Root Mean Square Error = 0.8854696998154016\n",
      "Training model with rank=100 and regParam=0.05\n",
      "Root Mean Square Error = 0.8759597955200795\n",
      "Training model with rank=100 and regParam=0.15\n",
      "Root Mean Square Error = 0.8747014419390181\n",
      "Training model with rank=100 and regParam=0.1\n",
      "Root Mean Square Error = 0.8799966498777988\n"
     ]
    }
   ],
   "source": [
    "rmse_scores = []\n",
    "for params in param_grid: # duyệt qua các tham số\n",
    "    rank, regParam = list(params.values())[0], list(params.values())[1] # lấy ra các tham số\n",
    "    print(f\"Training model with rank={rank} and regParam={regParam}\")\n",
    "    als_test = ALS(\n",
    "        userCol=COL_USER,\n",
    "        itemCol=COL_ITEM,\n",
    "        ratingCol=COL_RATING,\n",
    "        coldStartStrategy=\"drop\",\n",
    "        rank=rank,\n",
    "        regParam=regParam,\n",
    "    ) # khởi tạo model\n",
    "    model_test = als_test.fit(training_df)\n",
    "    predictions_test = model_test.transform(validation_df).filter(\n",
    "        col(\"prediction\") != np.nan)\n",
    "    evaluator = RegressionEvaluator(\n",
    "        metricName=\"rmse\", labelCol=\"rating\", predictionCol=\"prediction\")\n",
    "    rmse_score = evaluator.evaluate(predictions_test)\n",
    "    print(\"Root Mean Square Error = \" + str(rmse_score))\n",
    "    rmse_scores.append(rmse_score)\n",
    "\n",
    "rmse_scores = [float('%.4f' % x) for x in rmse_scores]\n",
    "rmse_score_array = np.reshape(\n",
    "    rmse_scores, (len(param_dict[\"rank\"]), len(param_dict[\"regParam\"])))\n"
   ]
  },
  {
   "cell_type": "code",
   "execution_count": 29,
   "metadata": {},
   "outputs": [
    {
     "data": {
      "text/plain": [
       "<AxesSubplot:xlabel='reg. parameter', ylabel='rank'>"
      ]
     },
     "execution_count": 29,
     "metadata": {},
     "output_type": "execute_result"
    },
    {
     "data": {
      "image/png": "[encoded data removed]",
      "text/plain": [
       "<Figure size 640x480 with 1 Axes>"
      ]
     },
     "metadata": {},
     "output_type": "display_data"
    }
   ],
   "source": [
    "from matplotlib import pyplot as plt\n",
    "import seaborn as sns\n",
    "\n",
    "rmse_df = pd.DataFrame(data=rmse_score_array, index=pd.Index(param_dict[\"rank\"], name=\"rank\"),\n",
    "                       columns=pd.Index(param_dict[\"regParam\"], name=\"reg. parameter\"))\n",
    "fig, ax = plt.subplots()\n",
    "sns.heatmap(rmse_df, cbar=False, annot=True, fmt=\".4g\")\n"
   ]
  },
  {
   "cell_type": "code",
   "execution_count": 10,
   "metadata": {},
   "outputs": [],
   "source": [
    "userRecs = model.recommendForAllUsers(10) # lấy ra 10 cuốn sách được recommend cho mỗi user"
   ]
  },
  {
   "cell_type": "code",
   "execution_count": 12,
   "metadata": {},
   "outputs": [
    {
     "name": "stdout",
     "output_type": "stream",
     "text": [
      "root\n",
      " |-- user_id: integer (nullable = false)\n",
      " |-- recommendations: array (nullable = true)\n",
      " |    |-- element: struct (containsNull = true)\n",
      " |    |    |-- book_id: integer (nullable = true)\n",
      " |    |    |-- rating: float (nullable = true)\n",
      "\n"
     ]
    }
   ],
   "source": [
    "userRecs.printSchema()"
   ]
  },
  {
   "attachments": {},
   "cell_type": "markdown",
   "metadata": {},
   "source": [
    "## One user defined function\n"
   ]
  },
  {
   "cell_type": "code",
   "execution_count": 40,
   "metadata": {},
   "outputs": [
    {
     "data": {
      "text/plain": [
       "DataFrame[user_id: int, recommendations: array<struct<book_id:int,rating:float>>]"
      ]
     },
     "execution_count": 40,
     "metadata": {},
     "output_type": "execute_result"
    }
   ],
   "source": [
    "oneUser = ratings.filter(training_df['user_id'] == 3)\n",
    "oneUserRecs = model.recommendForUserSubset(oneUser, 20)\n",
    "oneUserRecs\n"
   ]
  },
  {
   "cell_type": "code",
   "execution_count": 41,
   "metadata": {},
   "outputs": [
    {
     "name": "stdout",
     "output_type": "stream",
     "text": [
      "+-------+---------------------------------------------------------------------------------------------------------------------------------------------------------------------------------------------------------------------------------------------------------------------------------------------------------------------------------------------------------------------------------------+\n",
      "|user_id|recommendations                                                                                                                                                                                                                                                                                                                                                                        |\n",
      "+-------+---------------------------------------------------------------------------------------------------------------------------------------------------------------------------------------------------------------------------------------------------------------------------------------------------------------------------------------------------------------------------------------+\n",
      "|3      |[{6089, 1.0811234}, {3628, 1.0767981}, {9516, 1.0529823}, {7068, 1.04655}, {8470, 1.0433915}, {8362, 1.0414559}, {4154, 1.0399356}, {3953, 1.03934}, {7971, 1.0372998}, {8703, 1.0330752}, {9004, 1.024107}, {6583, 1.0237111}, {8182, 1.0221508}, {7844, 1.0219316}, {4509, 1.0207695}, {8831, 1.0203694}, {7988, 1.0186287}, {8479, 1.0174499}, {6634, 1.0172349}, {3338, 1.0137707}]|\n",
      "+-------+---------------------------------------------------------------------------------------------------------------------------------------------------------------------------------------------------------------------------------------------------------------------------------------------------------------------------------------------------------------------------------------+\n",
      "\n"
     ]
    }
   ],
   "source": [
    "oneUserRecs.show(truncate=False)\n"
   ]
  },
  {
   "cell_type": "code",
   "execution_count": null,
   "metadata": {},
   "outputs": [],
   "source": [
    "rec = oneUserRecs.select(\"user_id\", explode(\n",
    "    oneUserRecs.recommendations).alias(\"rec\"))\n",
    "rec = rec.select(\"user_id\", \"rec.book_id\", \"rec.rating\")"
   ]
  },
  {
   "cell_type": "code",
   "execution_count": 43,
   "metadata": {},
   "outputs": [
    {
     "name": "stdout",
     "output_type": "stream",
     "text": [
      "+----+-------+----------------------------------------------------------------------------------------------------------------------------------------------+---------+\n",
      "|id  |user_id|title                                                                                                                                         |rating   |\n",
      "+----+-------+----------------------------------------------------------------------------------------------------------------------------------------------+---------+\n",
      "|6089|3      |الرحيق المختوم                                                                                                                                |1.0811234|\n",
      "|3628|3      |The Complete Calvin and Hobbes                                                                                                                |1.0767981|\n",
      "|9516|3      |The Way the Crow Flies                                                                                                                        |1.0529823|\n",
      "|7068|3      |Martin Eden                                                                                                                                   |1.04655  |\n",
      "|8470|3      |The Ghost Road (Regeneration, #3)                                                                                                             |1.0433915|\n",
      "|8362|3      |Evicted: Poverty and Profit in the American City                                                                                              |1.0414559|\n",
      "|4154|3      |Book of Mormon, Doctrine and Covenants, Pearl of Great Price                                                                                  |1.0399356|\n",
      "|3953|3      |The New Jim Crow: Mass Incarceration in the Age of Colorblindness                                                                             |1.03934  |\n",
      "|7971|3      |Sweeney Todd: The Demon Barber of Fleet Street                                                                                                |1.0372998|\n",
      "|8703|3      |Random Family: Love, Drugs, Trouble, and Coming of Age in the Bronx                                                                           |1.0330752|\n",
      "|9004|3      |The Path to Power (The Years of Lyndon Johnson, #1)                                                                                           |1.024107 |\n",
      "|6583|3      |Shoe Dog: A Memoir by the Creator of NIKE                                                                                                     |1.0237111|\n",
      "|8182|3      |Fearless: The Heroic Story of One Navy SEAL's Sacrifice in the Hunt for Osama Bin Laden and the Unwavering Devotion of the Woman Who Loved Him|1.0221508|\n",
      "|7844|3      |India After Gandhi: The History of the World's Largest Democracy                                                                              |1.0219316|\n",
      "|4509|3      |2666                                                                                                                                          |1.0207695|\n",
      "|8831|3      |Assata: An Autobiography                                                                                                                      |1.0203694|\n",
      "|7988|3      |The Orenda                                                                                                                                    |1.0186287|\n",
      "|8479|3      |What I Loved                                                                                                                                  |1.0174499|\n",
      "|6634|3      |Suttree                                                                                                                                       |1.0172349|\n",
      "|3338|3      |Consider the Lobster and Other Essays                                                                                                         |1.0137707|\n",
      "+----+-------+----------------------------------------------------------------------------------------------------------------------------------------------+---------+\n",
      "\n"
     ]
    }
   ],
   "source": [
    "rec.join(books, rec.book_id == books.id).select(\n",
    "    \"id\", \"user_id\", \"title\", \"rating\").show(truncate=False)\n"
   ]
  },
  {
   "attachments": {},
   "cell_type": "markdown",
   "metadata": {},
   "source": [
    "## new user (v2)\n"
   ]
  },
  {
   "cell_type": "code",
   "execution_count": 10,
   "metadata": {},
   "outputs": [],
   "source": [
    "def name_retriever(book_id, book_df):\n",
    "    return book_df.where(book_df.id == book_id).take(1)[0]['title']\n"
   ]
  },
  {
   "cell_type": "code",
   "execution_count": 14,
   "metadata": {},
   "outputs": [],
   "source": [
    "def new_user_recs(user_id, rating_df, book_df, num_ratings, num_recs):\n",
    "\n",
    "    input_samples = rating_df.sample(False, 0.001, seed=42).collect()\n",
    "    sample_list = [i[0] for i in input_samples]\n",
    "    new_ratings = []\n",
    "    for i in range(len(sample_list)):\n",
    "        print(name_retriever(sample_list[i], book_df))\n",
    "        rating = input(\n",
    "            'How do you rate this book on a scale of 1-5, press n if you have not seen :\\n')\n",
    "        if rating == 'n':\n",
    "            continue\n",
    "        else:\n",
    "            new_ratings.append((sample_list[i], user_id,  int(rating)))\n",
    "            num_ratings -= 1\n",
    "            if num_ratings == 0:\n",
    "                break\n",
    "\n",
    "    new_user_ratings_csv = pd.DataFrame(\n",
    "        new_ratings, columns=rating_df.columns)\n",
    "    new_user_ratings_csv.to_csv(\n",
    "        './data/book/new_user_ratings.csv', index=False)\n",
    "    new_user_ratings = spark.read.csv(\n",
    "        './data/book/new_user_ratings.csv', header=True, inferSchema=True)\n",
    "\n",
    "    # combine the new ratings df with the rating_df\n",
    "    book_ratings_combined = rating_df.union(new_user_ratings)\n",
    "\n",
    "    # create an ALS model and fit it\n",
    "    als1 = ALS(maxIter=MAX_ITER, rank=RANK, regParam=REG_PARAM, userCol=COL_USER,\n",
    "               itemCol=COL_ITEM, ratingCol=COL_RATING, coldStartStrategy='drop')\n",
    "    model1 = als1.fit(book_ratings_combined)\n",
    "\n",
    "    # make recommendations for all users using the recommendForAllUsers method\n",
    "    recommendations = model1.recommendForAllUsers(num_recs)\n",
    "\n",
    "    # get recommendations specifically for the new user that has been added to the DataFrame\n",
    "    recs_for_user = recommendations.where(\n",
    "        recommendations.user_id == user_id).take(1)\n",
    "\n",
    "    for ranking, (book_id, rating) in enumerate(recs_for_user[0]['recommendations']):\n",
    "        book_string = name_retriever(book_id, book_df)\n",
    "        print('Recommendation {}: {} | predicted score: {}'.format(\n",
    "            ranking+1, book_string, rating))\n"
   ]
  },
  {
   "cell_type": "code",
   "execution_count": 15,
   "metadata": {},
   "outputs": [
    {
     "name": "stdout",
     "output_type": "stream",
     "text": [
      "The Host (The Host, #1)\n",
      "Looking for Alaska\n",
      "Recommendation 1: The Complete Novels | predicted score: 4.254806995391846\n",
      "Recommendation 2: Harry Potter Boxset (Harry Potter, #1-7) | predicted score: 4.172242641448975\n",
      "Recommendation 3: Standing for Something: 10 Neglected Virtues That Will Heal Our Hearts and Homes | predicted score: 4.170016288757324\n",
      "Recommendation 4: Harry Potter Collection (Harry Potter, #1-6) | predicted score: 4.16901159286499\n",
      "Recommendation 5: Words of Radiance (The Stormlight Archive, #2) | predicted score: 4.144506454467773\n",
      "Recommendation 6: The Authoritative Calvin and Hobbes: A Calvin and Hobbes Treasury | predicted score: 4.131720542907715\n",
      "Recommendation 7: The Indispensable Calvin and Hobbes | predicted score: 4.128113746643066\n",
      "Recommendation 8: The Day the Crayons Quit | predicted score: 4.099800109863281\n",
      "Recommendation 9: When Breath Becomes Air | predicted score: 4.091348171234131\n",
      "Recommendation 10: Jesus the Christ | predicted score: 4.059205055236816\n"
     ]
    }
   ],
   "source": [
    "new_user_recs(10101, ratings, books, 2, 10)\n"
   ]
  },
  {
   "cell_type": "code",
   "execution_count": null,
   "metadata": {},
   "outputs": [],
   "source": [
    "spark.stop()\n"
   ]
  }
 ],
 "metadata": {
  "kernelspec": {
   "display_name": "base",
   "language": "python",
   "name": "python3"
  },
  "language_info": {
   "codemirror_mode": {
    "name": "ipython",
    "version": 3
   },
   "file_extension": ".py",
   "mimetype": "text/x-python",
   "name": "python",
   "nbconvert_exporter": "python",
   "pygments_lexer": "ipython3",
   "version": "3.9.13"
  },
  "orig_nbformat": 4
 },
 "nbformat": 4,
 "nbformat_minor": 2
}
