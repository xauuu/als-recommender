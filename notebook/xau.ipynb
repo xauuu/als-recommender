{
 "cells": [
  {
   "cell_type": "code",
   "execution_count": 2,
   "metadata": {},
   "outputs": [],
   "source": [
    "from pyspark.sql import functions as f\n",
    "from pyspark.ml.feature import VectorAssembler\n",
    "from pyspark.ml.evaluation import RegressionEvaluator\n",
    "from pyspark.ml.recommendation import ALS\n",
    "from pyspark.sql.types import StringType, DoubleType, IntegerType, StructType, StructField\n",
    "\n",
    "import os\n",
    "os.environ[\"JAVA_HOME\"] = 'C:\\Program Files\\Java\\jdk-20'\n",
    "\n",
    "from pyspark.sql import SparkSession\n",
    "spark = SparkSession.builder.appName(\"Recommender System\").config(\n",
    "    \"spark.sql.crossJoin.enabled\", \"true\").getOrCreate()\n",
    "\n"
   ]
  },
  {
   "cell_type": "code",
   "execution_count": 3,
   "metadata": {},
   "outputs": [],
   "source": [
    "schemaRating = StructType([StructField('userId', IntegerType(), True),\n",
    "                     StructField('movieId', IntegerType(), True),\n",
    "                     StructField('rating', IntegerType(), True),\n",
    "                     StructField('timestamp', DoubleType(), True)])"
   ]
  },
  {
   "cell_type": "code",
   "execution_count": 4,
   "metadata": {},
   "outputs": [
    {
     "name": "stdout",
     "output_type": "stream",
     "text": [
      "root\n",
      " |-- userId: integer (nullable = true)\n",
      " |-- movieId: integer (nullable = true)\n",
      " |-- rating: integer (nullable = true)\n",
      " |-- timestamp: double (nullable = true)\n",
      "\n"
     ]
    }
   ],
   "source": [
    "data = spark.read.csv('data/ml-1m/ratings.dat',sep = '::', header = False, schema = schemaRating)\n",
    "data.printSchema()"
   ]
  },
  {
   "cell_type": "code",
   "execution_count": 5,
   "metadata": {},
   "outputs": [
    {
     "name": "stdout",
     "output_type": "stream",
     "text": [
      "+-------+------------------+------------------+------------------+--------------------+\n",
      "|summary|            userId|           movieId|            rating|           timestamp|\n",
      "+-------+------------------+------------------+------------------+--------------------+\n",
      "|  count|           1000209|           1000209|           1000209|             1000209|\n",
      "|   mean| 3024.512347919285|1865.5398981612843| 3.581564453029317| 9.722436954046655E8|\n",
      "| stddev|1728.4126948999715|1096.0406894572482|1.1171018453732606|1.2152558939916052E7|\n",
      "|    min|                 1|                 1|                 1|        9.56703932E8|\n",
      "|    max|              6040|              3952|                 5|        1.04645459E9|\n",
      "+-------+------------------+------------------+------------------+--------------------+\n",
      "\n"
     ]
    }
   ],
   "source": [
    "data.describe().show()\n"
   ]
  },
  {
   "cell_type": "code",
   "execution_count": 6,
   "metadata": {},
   "outputs": [],
   "source": [
    "train_data, test_data = data.randomSplit([0.7, 0.3])"
   ]
  },
  {
   "cell_type": "code",
   "execution_count": 7,
   "metadata": {},
   "outputs": [
    {
     "name": "stdout",
     "output_type": "stream",
     "text": [
      "+-------+------------------+------------------+------------------+--------------------+\n",
      "|summary|            userId|           movieId|            rating|           timestamp|\n",
      "+-------+------------------+------------------+------------------+--------------------+\n",
      "|  count|            700196|            700196|            700196|              700196|\n",
      "|   mean| 3025.427553142263|1866.0319781889643| 3.581095864586487| 9.722436450144145E8|\n",
      "| stddev|1728.5358255837127|1096.7561203355333|1.1172803152791009|1.2167598671152102E7|\n",
      "|    min|                 1|                 1|                 1|        9.56703954E8|\n",
      "|    max|              6040|              3952|                 5|       1.046454548E9|\n",
      "+-------+------------------+------------------+------------------+--------------------+\n",
      "\n"
     ]
    }
   ],
   "source": [
    "train_data.describe().show()\n"
   ]
  },
  {
   "cell_type": "code",
   "execution_count": 8,
   "metadata": {},
   "outputs": [
    {
     "name": "stdout",
     "output_type": "stream",
     "text": [
      "+-------+------------------+------------------+------------------+--------------------+\n",
      "|summary|            userId|           movieId|            rating|           timestamp|\n",
      "+-------+------------------+------------------+------------------+--------------------+\n",
      "|  count|            300013|            300013|            300013|              300013|\n",
      "|   mean|3022.3763636909066|1864.3914397042795|3.5826580848163245| 9.722438130097429E8|\n",
      "| stddev| 1728.126282690675|1094.3701015507588|1.1166863027488934|1.2117405550766544E7|\n",
      "|    min|                 1|                 1|                 1|        9.56703932E8|\n",
      "|    max|              6040|              3952|                 5|        1.04645459E9|\n",
      "+-------+------------------+------------------+------------------+--------------------+\n",
      "\n"
     ]
    }
   ],
   "source": [
    "test_data.describe().show()\n"
   ]
  },
  {
   "attachments": {},
   "cell_type": "markdown",
   "metadata": {},
   "source": [
    "## Build Model"
   ]
  },
  {
   "cell_type": "code",
   "execution_count": 9,
   "metadata": {},
   "outputs": [],
   "source": [
    "recommender = ALS(maxIter=5, regParam=0.01, userCol='userId',\n",
    "                  itemCol='movieId', ratingCol='rating')\n",
    "model = recommender.fit(train_data)\n"
   ]
  },
  {
   "attachments": {},
   "cell_type": "markdown",
   "metadata": {},
   "source": [
    "## Evaluate Model"
   ]
  },
  {
   "cell_type": "code",
   "execution_count": 10,
   "metadata": {},
   "outputs": [
    {
     "name": "stdout",
     "output_type": "stream",
     "text": [
      "+------+-------+------+------------+----------+\n",
      "|userId|movieId|rating|   timestamp|prediction|\n",
      "+------+-------+------+------------+----------+\n",
      "|     1|   1721|     4|9.78300055E8| 4.1596465|\n",
      "|     1|   1270|     5|9.78300055E8| 4.0622654|\n",
      "|     1|    588|     4|9.78824268E8| 4.0168386|\n",
      "|     1|   2018|     4|9.78301777E8| 4.8098726|\n",
      "|     1|   1961|     5| 9.7830159E8|  4.613861|\n",
      "|     1|   1207|     4|9.78300719E8| 5.1726365|\n",
      "|     1|    919|     4|9.78301368E8|  5.098341|\n",
      "|     1|     48|     5|9.78824351E8| 3.7695992|\n",
      "|     2|    318|     5|9.78298413E8| 4.5498414|\n",
      "|     1|   3408|     4|9.78300275E8|   4.18738|\n",
      "|     1|    594|     4|9.78302268E8| 4.7469335|\n",
      "|     1|   1545|     4|9.78824139E8| 5.0774083|\n",
      "|     1|   1022|     5|9.78300055E8| 4.3722167|\n",
      "|     1|   2918|     4|9.78302124E8|  4.067622|\n",
      "|     1|    720|     3| 9.7830076E8|  4.551594|\n",
      "|     1|    938|     4|9.78301752E8|  4.760317|\n",
      "|     2|    265|     4|9.78299026E8|  4.437585|\n",
      "|     1|   2028|     5|9.78301619E8| 4.4610944|\n",
      "|     1|    745|     3|9.78824268E8| 4.4571104|\n",
      "|     1|   1246|     4|9.78302091E8| 4.1843324|\n",
      "+------+-------+------+------------+----------+\n",
      "only showing top 20 rows\n",
      "\n"
     ]
    }
   ],
   "source": [
    "pred_data = model.transform(test_data)\n",
    "pred_data.show()\n"
   ]
  },
  {
   "cell_type": "code",
   "execution_count": 11,
   "metadata": {},
   "outputs": [
    {
     "name": "stdout",
     "output_type": "stream",
     "text": [
      "Root-mean-square error = nan\n"
     ]
    }
   ],
   "source": [
    "evaluator = RegressionEvaluator(\n",
    "    metricName='rmse', labelCol='rating', predictionCol='prediction')\n",
    "print(\"Root-mean-square error = \" + str(evaluator.evaluate(pred_data)))\n"
   ]
  },
  {
   "cell_type": "code",
   "execution_count": 12,
   "metadata": {},
   "outputs": [
    {
     "name": "stdout",
     "output_type": "stream",
     "text": [
      "The average rating in the dataset is: 3.581564453029317\n"
     ]
    }
   ],
   "source": [
    "avgRatings = data.select('rating').groupBy().avg().first()[0]\n",
    "print('The average rating in the dataset is: {}'.format(avgRatings))\n"
   ]
  },
  {
   "cell_type": "code",
   "execution_count": 13,
   "metadata": {},
   "outputs": [
    {
     "name": "stdout",
     "output_type": "stream",
     "text": [
      "The root mean squared error for our model is: 0.9109961429823804\n"
     ]
    }
   ],
   "source": [
    "evaluator = RegressionEvaluator(\n",
    "    metricName='rmse', labelCol='rating', predictionCol='prediction')\n",
    "print('The root mean squared error for our model is: {}'.format(\n",
    "    evaluator.evaluate(pred_data.na.fill(avgRatings))))\n"
   ]
  },
  {
   "cell_type": "code",
   "execution_count": 14,
   "metadata": {},
   "outputs": [
    {
     "name": "stdout",
     "output_type": "stream",
     "text": [
      "The root mean squared error for our model is: 0.9108085573495974\n"
     ]
    }
   ],
   "source": [
    "evaluator = RegressionEvaluator(\n",
    "    metricName='rmse', labelCol='rating', predictionCol='prediction')\n",
    "print('The root mean squared error for our model is: {}'.format(\n",
    "    evaluator.evaluate(pred_data.na.drop())))\n"
   ]
  },
  {
   "attachments": {},
   "cell_type": "markdown",
   "metadata": {},
   "source": [
    "## Define Movie details"
   ]
  },
  {
   "cell_type": "code",
   "execution_count": 16,
   "metadata": {},
   "outputs": [
    {
     "name": "stdout",
     "output_type": "stream",
     "text": [
      "root\n",
      " |-- movieId: integer (nullable = true)\n",
      " |-- title: string (nullable = true)\n",
      " |-- genres: string (nullable = true)\n",
      "\n"
     ]
    }
   ],
   "source": [
    "schemaMovie = StructType([StructField('movieId', IntegerType(), True),\n",
    "                     StructField('title', StringType(), True),\n",
    "                     StructField('genres', StringType(), True)])\n",
    "movieDetails = spark.read.csv(\n",
    "    'data/ml-1m/movies.dat', sep='::', header=False, schema=schemaMovie)\n",
    "movieDetails.printSchema()\n"
   ]
  },
  {
   "cell_type": "code",
   "execution_count": 17,
   "metadata": {},
   "outputs": [],
   "source": [
    "occupation = {\n",
    "    0:  \"other\",\n",
    "    1:  \"academic/educator\",\n",
    "    2:  \"artist\",\n",
    "    3:  \"clerical/admin\",\n",
    "    4:  \"college/grad student\",\n",
    "    5:  \"customer service\",\n",
    "    6:  \"doctor/health care\",\n",
    "    7:  \"executive/managerial\",\n",
    "    8:  \"farmer\",\n",
    "    9:  \"homemaker\",\n",
    "    10:  \"K-12 student\",\n",
    "    11:  \"lawyer\",\n",
    "    12:  \"programmer\",\n",
    "    13:  \"retired\",\n",
    "    14:  \"sales/marketing\",\n",
    "    15:  \"scientist\",\n",
    "    16:  \"self-employed\",\n",
    "    17:  \"technician/engineer\",\n",
    "    18:  \"tradesman/craftsman\",\n",
    "    19:  \"unemployed\",\n",
    "    20:  \"writer\"\n",
    "\n",
    "}\n"
   ]
  },
  {
   "cell_type": "code",
   "execution_count": 18,
   "metadata": {},
   "outputs": [
    {
     "name": "stdout",
     "output_type": "stream",
     "text": [
      "root\n",
      " |-- UserID: integer (nullable = true)\n",
      " |-- Gender: string (nullable = true)\n",
      " |-- Age: integer (nullable = true)\n",
      " |-- Occupation: integer (nullable = true)\n",
      " |-- Zipcode: integer (nullable = true)\n",
      "\n"
     ]
    }
   ],
   "source": [
    "schemaUser = StructType([StructField('UserID', IntegerType(), True),\n",
    "                     StructField('Gender', StringType(), True),\n",
    "                     StructField('Age', IntegerType(), True),\n",
    "                     StructField('Occupation', IntegerType(), True),\n",
    "                     StructField('Zipcode', IntegerType(), True)])\n",
    "userDetails = spark.read.csv(\n",
    "    'data/ml-1m/users.dat', sep='::', header=False, schema=schemaUser)\n",
    "userDetails.printSchema()\n"
   ]
  },
  {
   "cell_type": "code",
   "execution_count": 23,
   "metadata": {},
   "outputs": [
    {
     "name": "stdout",
     "output_type": "stream",
     "text": [
      "root\n",
      " |-- userId: integer (nullable = false)\n",
      " |-- recommendations: array (nullable = true)\n",
      " |    |-- element: struct (containsNull = true)\n",
      " |    |    |-- movieId: integer (nullable = true)\n",
      " |    |    |-- rating: float (nullable = true)\n",
      "\n"
     ]
    }
   ],
   "source": [
    "userRecs = model.recommendForAllUsers(10)\n",
    "userRecs.printSchema()\n"
   ]
  },
  {
   "cell_type": "code",
   "execution_count": 42,
   "metadata": {},
   "outputs": [],
   "source": [
    "def get_rec(rec):\n",
    "  rec = rec.select(\"userId\", f.explode(rec.recommendations))\n",
    "  rec = rec.select(\"col.*\", \"*\")\n",
    "  rating_mat = rec.select([\"userId\", \"movieId\", \"rating\"])\n",
    "  return rating_mat\n"
   ]
  },
  {
   "cell_type": "code",
   "execution_count": 43,
   "metadata": {},
   "outputs": [],
   "source": [
    "rating_mat = get_rec(model.recommendForAllUsers(8))\n"
   ]
  },
  {
   "cell_type": "code",
   "execution_count": 49,
   "metadata": {},
   "outputs": [
    {
     "name": "stdout",
     "output_type": "stream",
     "text": [
      "+-------+------+---------+--------------------+--------------------+\n",
      "|movieId|userId|   rating|               title|              genres|\n",
      "+-------+------+---------+--------------------+--------------------+\n",
      "|   1152|    11|10.211037|He Walked by Nigh...|Crime|Film-Noir|T...|\n",
      "|   1613|    11|9.0795355|    Star Maps (1997)|               Drama|\n",
      "|   1511|    11| 8.992776|A Chef in Love (1...|              Comedy|\n",
      "|    567|    11| 8.614988|         Kika (1993)|               Drama|\n",
      "|   1038|    11| 8.391063|Unhook the Stars ...|               Drama|\n",
      "|   2257|    11| 8.388325|No Small Affair (...|      Comedy|Romance|\n",
      "|   2298|    11| 8.366794|  Strangeland (1998)|            Thriller|\n",
      "|   1180|    11| 8.219752| Hear My Song (1991)|              Comedy|\n",
      "+-------+------+---------+--------------------+--------------------+\n",
      "\n",
      "root\n",
      " |-- movieId: integer (nullable = true)\n",
      " |-- userId: integer (nullable = false)\n",
      " |-- rating: float (nullable = true)\n",
      " |-- title: string (nullable = true)\n",
      " |-- genres: string (nullable = true)\n",
      "\n"
     ]
    }
   ],
   "source": [
    "final_rec = rating_mat.join(movieDetails, on=\"movieId\", how=\"left\")\n",
    "final_rec.filter(\"userId=11\").orderBy(final_rec[\"rating\"].desc()).show(10)\n",
    "final_rec.printSchema()\n"
   ]
  },
  {
   "cell_type": "code",
   "execution_count": null,
   "metadata": {},
   "outputs": [],
   "source": []
  }
 ],
 "metadata": {
  "kernelspec": {
   "display_name": "base",
   "language": "python",
   "name": "python3"
  },
  "language_info": {
   "codemirror_mode": {
    "name": "ipython",
    "version": 3
   },
   "file_extension": ".py",
   "mimetype": "text/x-python",
   "name": "python",
   "nbconvert_exporter": "python",
   "pygments_lexer": "ipython3",
   "version": "3.9.13"
  },
  "orig_nbformat": 4
 },
 "nbformat": 4,
 "nbformat_minor": 2
}
